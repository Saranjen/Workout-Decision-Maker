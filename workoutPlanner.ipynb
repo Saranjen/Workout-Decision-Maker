{
 "cells": [
  {
   "cell_type": "code",
   "execution_count": null,
   "metadata": {},
   "outputs": [],
   "source": [
    "#Import Libraries\n",
    "import pandas as pd \n",
    "\n",
    "import applescript\n",
    "import os\n",
    "import subprocess"
   ]
  },
  {
   "cell_type": "code",
   "execution_count": null,
   "metadata": {},
   "outputs": [],
   "source": [
    "#inquire user of equipment that some gyms might not have\n",
    "def has_equipment(df_filtered, df):\n",
    "    \n",
    "    equipment = [\"Bands\", \"Kettlebells\", \"Cable\", \"Exercise Ball\", \"Medicine Ball\", \"E-Z Curl Bar\", \"Foam Roll\"]\n",
    "    \n",
    "    for x in equipment:\n",
    "        \n",
    "        ask = input(f\"Do you have {x} (y/n): \")\n",
    "        \n",
    "        if ask == 'n':\n",
    "            df_filtered = df_filtered[df_filtered[\"Equipment\"] != x]\n",
    "            df = df[df[\"Equipment\"] != x]\n",
    "    \n",
    "    return df_filtered, df"
   ]
  },
  {
   "cell_type": "code",
   "execution_count": null,
   "metadata": {},
   "outputs": [],
   "source": [
    "#Filters out body parts that don't need to be worked on for the day\n",
    "def PushPullLegs(df):\n",
    "    global d1 \n",
    "\n",
    "    d1 = {\"push\":[\"Shoulders\", \"Traps\", \"Chest\", \"Triceps\"], \"pull\":[\"Middle Back\", \"Lower Back\", \"Lats\", \"Biceps\", \"Forearms\"],\n",
    "          \"legs\":[\"Glutes\", \"Hamstrings\", \"Quadriceps\", \"Calves\"]}\n",
    "\n",
    "    day_type = input(\"Is today push, pull, or legs? \")\n",
    "    \n",
    "    \n",
    "    df2 = df[df[\"BodyPart\"].isin(d1[day_type.lower()])]\n",
    "    \n",
    "    \n",
    "    return df2, day_type"
   ]
  },
  {
   "cell_type": "code",
   "execution_count": null,
   "metadata": {},
   "outputs": [],
   "source": [
    "#Workout schedule should output one workout per body part first, then randomly select body parts for the rest\n",
    "# WANT one workout per body part  (one stretch per body part worked before workout)\n",
    "# & 3 ab workouts after\n",
    "\n",
    "def addStretches(df, day_type):\n",
    "      \n",
    "    final_df = pd.DataFrame(columns=df.columns)\n",
    "    \n",
    "    d1 = {\"push\":[\"Shoulders\", \"Traps\", \"Chest\", \"Triceps\"], \"pull\":[\"Middle Back\", \"Lower Back\", \"Lats\", \"Biceps\", \"Forearms\"],\n",
    "          \"legs\":[\"Glutes\", \"Hamstrings\", \"Quadriceps\", \"Calves\"]}\n",
    "\n",
    "    \n",
    "    for x in d1[day_type]:\n",
    "          \n",
    "            \n",
    "          df2 = df[df[\"Type\"]==\"Stretching\"]  \n",
    "          df2 = df2[df2[\"BodyPart\"] == x]\n",
    "          \n",
    "          #this if statement concates the randow dataframe row to the final one if df2 not empty after filtering  \n",
    "          if not df2.empty:\n",
    "                random_row = df2.sample(n=1)\n",
    "                final_df = pd.concat([final_df, random_row], axis=0)  \n",
    "                \n",
    "                      \n",
    "    return final_df  "
   ]
  },
  {
   "cell_type": "code",
   "execution_count": null,
   "metadata": {},
   "outputs": [],
   "source": [
    "def addWorkout(df, final_df, day_type):\n",
    "    \n",
    "    d1 = {\"push\":[\"Shoulders\", \"Traps\", \"Chest\", \"Triceps\"], \"pull\":[\"Middle Back\", \"Lower Back\", \"Lats\", \"Biceps\", \"Forearms\"],\n",
    "          \"legs\":[\"Glutes\", \"Hamstrings\", \"Quadriceps\", \"Calves\"]}\n",
    "\n",
    "    \n",
    "    for x in d1[day_type]:\n",
    "                \n",
    "          df2 = df[df[\"Type\"]!=\"Stretching\"]  \n",
    "          df2 = df2[df2[\"BodyPart\"] == x]\n",
    "          \n",
    "          #this if statement concates the randow dataframe row to the final one if df2 not empty after filtering  \n",
    "          if not df2.empty:\n",
    "                random_row = df2.sample(n=1)\n",
    "                final_df = pd.concat([final_df, random_row], axis=0) \n",
    "    \n",
    "    return final_df"
   ]
  },
  {
   "cell_type": "code",
   "execution_count": null,
   "metadata": {},
   "outputs": [],
   "source": [
    "def add_ab_workout(df, final_df):\n",
    "    \n",
    "    df2 = df[df[\"Type\"]!=\"Stretching\"]  \n",
    "    df2 = df2[df2[\"BodyPart\"] == \"Abdominals\"]\n",
    "    \n",
    "    if not df2.empty:\n",
    "        random_row = df2.sample(n=3)\n",
    "        final_df = pd.concat([final_df, random_row], axis=0)\n",
    "                \n",
    "                \n",
    "    return final_df"
   ]
  },
  {
   "cell_type": "code",
   "execution_count": null,
   "metadata": {},
   "outputs": [],
   "source": [
    "#Reading DataFrame\n",
    "df = pd.read_csv(\"megaGymDataset.csv\")\n",
    "\n",
    "#Drop unneeded columns\n",
    "df.drop([\"Unnamed: 0\", \"RatingDesc\"],axis=1,inplace=True)"
   ]
  },
  {
   "cell_type": "code",
   "execution_count": null,
   "metadata": {},
   "outputs": [],
   "source": [
    "#Cleaning DataFrame Data \n",
    "#Filling in Nan Values\n",
    "mean_ratings = df['Rating'].mean()\n",
    "\n",
    "\n",
    "df['Rating'].fillna(round(mean_ratings,1),inplace=True)\n",
    "\n",
    "description_fill = \"No Description! Search up Online!\"\n",
    "df[\"Desc\"].fillna(description_fill, inplace=True)\n",
    "\n"
   ]
  },
  {
   "cell_type": "code",
   "execution_count": null,
   "metadata": {},
   "outputs": [],
   "source": [
    "#Main CELL where everything happens (later will be changed to main function)\n",
    "\n",
    "level = input(\"Are you a Beginner (B), Intermediate (I), or an Expert (E)\")#functionaility not yet implemented\n",
    "\n",
    "#Delete Data from DataFrame depending on user's level/experience\n",
    "if level == \"B\":\n",
    "    df = df[(df[\"Level\"] != \"Expert\") & (df[\"Level\"] != \"Intermediate\")]\n",
    "elif level == \"I\":\n",
    "    df = df[df[\"Level\"]!=\"Expert\"]\n",
    "\n",
    "workout_day = int(input(\"Push/Pull/Legs (0), Five Day Split (1), or Full Body (2): \")) #functionaility not yet implemented\n",
    "    \n",
    "#filter out DF of body parts not needed to be worked on a specific day\n",
    "BodyPart_DF, day_type = PushPullLegs(df)\n",
    "\n",
    "#filterd out DF of equipment that user does not have\n",
    "equip_Sorted_df, new_df = has_equipment(BodyPart_DF, df)\n",
    "\n",
    "\n",
    "#passes through filtered DF of Body Parts and Equipment\n",
    "addStretchDF = addStretches(equip_Sorted_df, day_type)\n",
    "\n",
    "# add workouts to the DataFrame\n",
    "addWorkoutDF = addWorkout(equip_Sorted_df, addStretchDF, day_type)\n",
    "\n",
    "#this one requires the equipment filter DF instead \n",
    "#Add ab workouts to DataFrame\n",
    "final_df = add_ab_workout(new_df, addWorkoutDF)\n"
   ]
  },
  {
   "cell_type": "code",
   "execution_count": null,
   "metadata": {},
   "outputs": [],
   "source": [
    "#Changing the index of the DF to be a workout order column\n",
    "num_of_rows = final_df[\"BodyPart\"].count()\n",
    "\n",
    "new_index_list = list(range(1,num_of_rows+1))\n",
    "\n",
    "final_df.insert(0, \"Workout Order\", new_index_list)\n",
    "\n",
    "#final_df.index = new_index_list\n",
    "final_df = final_df.reset_index(drop=True)"
   ]
  },
  {
   "cell_type": "code",
   "execution_count": null,
   "metadata": {},
   "outputs": [],
   "source": [
    "final_df.to_html(\"myWorkoutPlan.html\", index= False)  #html file preserves the table format in apple notes versus a csv file"
   ]
  },
  {
   "cell_type": "code",
   "execution_count": null,
   "metadata": {},
   "outputs": [],
   "source": [
    "print(\"This is your workout schedule:\\n\")\n",
    "display(final_df) #displays workout plan to user as a dataframe"
   ]
  }
 ],
 "metadata": {
  "kernelspec": {
   "display_name": ".venv",
   "language": "python",
   "name": "python3"
  },
  "language_info": {
   "codemirror_mode": {
    "name": "ipython",
    "version": 3
   },
   "file_extension": ".py",
   "mimetype": "text/x-python",
   "name": "python",
   "nbconvert_exporter": "python",
   "pygments_lexer": "ipython3",
   "version": "3.11.3"
  },
  "orig_nbformat": 4
 },
 "nbformat": 4,
 "nbformat_minor": 2
}
